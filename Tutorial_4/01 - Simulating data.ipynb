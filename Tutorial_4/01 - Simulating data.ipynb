{
 "cells": [
  {
   "cell_type": "code",
   "execution_count": null,
   "metadata": {},
   "outputs": [],
   "source": [
    "import numpy as np\n",
    "\n",
    "# Set the random seed for reproducibility (optional)\n",
    "np.random.seed(42)\n"
   ]
  },
  {
   "cell_type": "code",
   "execution_count": 3,
   "metadata": {},
   "outputs": [],
   "source": [
    "# Number of days to simulate\n",
    "n_days = 1000\n",
    "\n",
    "# Generate an array of days (1 to 1000)\n",
    "days = np.arange(1, n_days + 1)\n",
    "\n",
    "# Generate opening prices from a normal distribution centered at 170 with a standard deviation of 10\n",
    "opening_prices = np.random.normal(loc=170, scale=10, size=n_days)\n",
    "\n",
    "# Generate closing prices from a normal distribution centered at 175 with a standard deviation of 15\n",
    "closing_prices = np.random.normal(loc=175, scale=15, size=n_days)\n",
    "\n",
    "# Randomly assign \"Buy\" or \"Sell\" activity for each day\n",
    "activities = np.random.choice([\"Buy\", \"Sell\"], size=n_days)\n"
   ]
  },
  {
   "cell_type": "code",
   "execution_count": null,
   "metadata": {},
   "outputs": [],
   "source": [
    "# Create a structured array with appropriate data types\n",
    "data = np.rec.array(\n",
    "    (days, opening_prices, closing_prices, activities),\n",
    "    dtype=[('day', 'i4'),\n",
    "           ('opening_price', 'f4'),\n",
    "           ('closing_price', 'f4'),\n",
    "           ('activity', 'U4')]\n",
    ")\n",
    "\n",
    "# Save the structured array to a CSV file\n",
    "np.savetxt(\n",
    "    \"synthetic_asset_data.csv\",\n",
    "    data,\n",
    "    delimiter=\",\",\n",
    "    header=\"day,opening_price,closing_price,activity\",\n",
    "    comments=\"\",\n",
    "    fmt=(\"%d\", \"%.2f\", \"%.2f\", \"%s\") # Format specifiers for each column\n",
    ")\n",
    "\n",
    "print(\"Synthetic asset data has been written to 'synthetic_asset_data.csv'.\")\n"
   ]
  },
  {
   "cell_type": "code",
   "execution_count": 5,
   "metadata": {},
   "outputs": [
    {
     "name": "stdout",
     "output_type": "stream",
     "text": [
      "Synthetic asset data has been written to 'synthetic_asset_data_pandas.csv'.\n"
     ]
    }
   ],
   "source": [
    "import pandas as pd\n",
    "\n",
    "# Convert the structured array to a pandas DataFrame\n",
    "df = pd.DataFrame(data)\n",
    "\n",
    "# Save the DataFrame to a CSV file\n",
    "df.to_csv(\"synthetic_asset_data_pandas.csv\", index=False)\n",
    "\n",
    "print(\"Synthetic asset data has been written to 'synthetic_asset_data_pandas.csv'.\")"
   ]
  }
 ],
 "metadata": {
  "kernelspec": {
   "display_name": ".venv",
   "language": "python",
   "name": "python3"
  },
  "language_info": {
   "codemirror_mode": {
    "name": "ipython",
    "version": 3
   },
   "file_extension": ".py",
   "mimetype": "text/x-python",
   "name": "python",
   "nbconvert_exporter": "python",
   "pygments_lexer": "ipython3",
   "version": "3.11.6"
  }
 },
 "nbformat": 4,
 "nbformat_minor": 2
}
