{
 "cells": [
  {
   "cell_type": "code",
   "execution_count": null,
   "id": "bc13b1ac",
   "metadata": {
    "_cell_guid": "b1076dfc-b9ad-4769-8c92-a6c4dae69d19",
    "_uuid": "8f2839f25d086af736a60e9eeb907d3b93b6e0e5",
    "execution": {
     "iopub.execute_input": "2025-02-28T12:38:05.693166Z",
     "iopub.status.busy": "2025-02-28T12:38:05.692874Z",
     "iopub.status.idle": "2025-02-28T12:38:09.276464Z",
     "shell.execute_reply": "2025-02-28T12:38:09.274864Z"
    },
    "papermill": {
     "duration": 3.59201,
     "end_time": "2025-02-28T12:38:09.278463",
     "exception": false,
     "start_time": "2025-02-28T12:38:05.686453",
     "status": "completed"
    },
    "tags": []
   },
   "outputs": [],
   "source": [
    "import numpy as np \n",
    "import pandas as pd \n",
    "import matplotlib.pyplot as plt\n",
    "import seaborn as sb\n",
    "import os\n",
    "\n",
    "# Load the data\n",
    "data=pd.read_csv(\"housing.csv\")\n",
    "data.head()"
   ]
  },
  {
   "cell_type": "code",
   "execution_count": null,
   "id": "2e948017",
   "metadata": {},
   "outputs": [],
   "source": [
    "data.info()"
   ]
  },
  {
   "cell_type": "code",
   "execution_count": null,
   "id": "71c9026c",
   "metadata": {
    "execution": {
     "iopub.execute_input": "2025-02-28T12:38:09.288675Z",
     "iopub.status.busy": "2025-02-28T12:38:09.288364Z",
     "iopub.status.idle": "2025-02-28T12:38:09.293782Z",
     "shell.execute_reply": "2025-02-28T12:38:09.292841Z"
    },
    "papermill": {
     "duration": 0.012363,
     "end_time": "2025-02-28T12:38:09.295547",
     "exception": false,
     "start_time": "2025-02-28T12:38:09.283184",
     "status": "completed"
    },
    "tags": []
   },
   "outputs": [],
   "source": [
    "data.shape"
   ]
  },
  {
   "cell_type": "code",
   "execution_count": null,
   "id": "5c1a87f7",
   "metadata": {
    "execution": {
     "iopub.execute_input": "2025-02-28T12:38:09.305573Z",
     "iopub.status.busy": "2025-02-28T12:38:09.305213Z",
     "iopub.status.idle": "2025-02-28T12:38:09.317400Z",
     "shell.execute_reply": "2025-02-28T12:38:09.316163Z"
    },
    "papermill": {
     "duration": 0.018848,
     "end_time": "2025-02-28T12:38:09.319129",
     "exception": false,
     "start_time": "2025-02-28T12:38:09.300281",
     "status": "completed"
    },
    "tags": []
   },
   "outputs": [],
   "source": [
    "data.isnull().sum()\n",
    "\n"
   ]
  },
  {
   "cell_type": "code",
   "execution_count": 13,
   "id": "3e3d5850",
   "metadata": {
    "execution": {
     "iopub.execute_input": "2025-02-28T12:38:09.328707Z",
     "iopub.status.busy": "2025-02-28T12:38:09.328397Z",
     "iopub.status.idle": "2025-02-28T12:38:09.343060Z",
     "shell.execute_reply": "2025-02-28T12:38:09.341337Z"
    },
    "papermill": {
     "duration": 0.02113,
     "end_time": "2025-02-28T12:38:09.344837",
     "exception": false,
     "start_time": "2025-02-28T12:38:09.323707",
     "status": "completed"
    },
    "tags": []
   },
   "outputs": [],
   "source": [
    "data['total_bedrooms'] = data['total_bedrooms'].fillna(data['total_bedrooms'].mean())"
   ]
  },
  {
   "cell_type": "code",
   "execution_count": null,
   "id": "ac35ee3d",
   "metadata": {
    "execution": {
     "iopub.execute_input": "2025-02-28T12:38:09.355154Z",
     "iopub.status.busy": "2025-02-28T12:38:09.354745Z",
     "iopub.status.idle": "2025-02-28T12:38:09.364884Z",
     "shell.execute_reply": "2025-02-28T12:38:09.363626Z"
    },
    "papermill": {
     "duration": 0.016899,
     "end_time": "2025-02-28T12:38:09.366390",
     "exception": false,
     "start_time": "2025-02-28T12:38:09.349491",
     "status": "completed"
    },
    "tags": []
   },
   "outputs": [],
   "source": [
    "data.isnull().sum()"
   ]
  },
  {
   "cell_type": "code",
   "execution_count": null,
   "id": "5b25e565",
   "metadata": {
    "execution": {
     "iopub.execute_input": "2025-02-28T12:38:09.376460Z",
     "iopub.status.busy": "2025-02-28T12:38:09.376132Z",
     "iopub.status.idle": "2025-02-28T12:38:09.383234Z",
     "shell.execute_reply": "2025-02-28T12:38:09.382118Z"
    },
    "papermill": {
     "duration": 0.013875,
     "end_time": "2025-02-28T12:38:09.385081",
     "exception": false,
     "start_time": "2025-02-28T12:38:09.371206",
     "status": "completed"
    },
    "tags": []
   },
   "outputs": [],
   "source": [
    "data.dtypes"
   ]
  },
  {
   "cell_type": "code",
   "execution_count": null,
   "id": "3575e8d6",
   "metadata": {},
   "outputs": [],
   "source": [
    "data['ocean_proximity'].value_counts()"
   ]
  },
  {
   "cell_type": "code",
   "execution_count": 17,
   "id": "c476096a",
   "metadata": {
    "execution": {
     "iopub.execute_input": "2025-02-28T12:38:09.395432Z",
     "iopub.status.busy": "2025-02-28T12:38:09.395119Z",
     "iopub.status.idle": "2025-02-28T12:38:09.401134Z",
     "shell.execute_reply": "2025-02-28T12:38:09.399784Z"
    },
    "papermill": {
     "duration": 0.012892,
     "end_time": "2025-02-28T12:38:09.402861",
     "exception": false,
     "start_time": "2025-02-28T12:38:09.389969",
     "status": "completed"
    },
    "tags": []
   },
   "outputs": [],
   "source": [
    "data[\"ocean_proximity\"]=data[\"ocean_proximity\"].astype('category')"
   ]
  },
  {
   "cell_type": "code",
   "execution_count": null,
   "id": "ff307a22",
   "metadata": {
    "execution": {
     "iopub.execute_input": "2025-02-28T12:38:09.412850Z",
     "iopub.status.busy": "2025-02-28T12:38:09.412503Z",
     "iopub.status.idle": "2025-02-28T12:38:09.419182Z",
     "shell.execute_reply": "2025-02-28T12:38:09.417930Z"
    },
    "papermill": {
     "duration": 0.013141,
     "end_time": "2025-02-28T12:38:09.420657",
     "exception": false,
     "start_time": "2025-02-28T12:38:09.407516",
     "status": "completed"
    },
    "tags": []
   },
   "outputs": [],
   "source": [
    "data.dtypes"
   ]
  },
  {
   "cell_type": "code",
   "execution_count": null,
   "id": "8e0208d8",
   "metadata": {
    "execution": {
     "iopub.execute_input": "2025-02-28T12:38:09.430336Z",
     "iopub.status.busy": "2025-02-28T12:38:09.430044Z",
     "iopub.status.idle": "2025-02-28T12:38:09.445885Z",
     "shell.execute_reply": "2025-02-28T12:38:09.444828Z"
    },
    "papermill": {
     "duration": 0.022451,
     "end_time": "2025-02-28T12:38:09.447618",
     "exception": false,
     "start_time": "2025-02-28T12:38:09.425167",
     "status": "completed"
    },
    "tags": []
   },
   "outputs": [],
   "source": [
    "\n",
    "data = data.loc[~data.duplicated(subset=['longitude','latitude'])] # remove duplicates based on longitude and latitude\n",
    "data.shape"
   ]
  },
  {
   "cell_type": "code",
   "execution_count": null,
   "id": "fb344234",
   "metadata": {
    "execution": {
     "iopub.execute_input": "2025-02-28T12:38:09.474594Z",
     "iopub.status.busy": "2025-02-28T12:38:09.474294Z",
     "iopub.status.idle": "2025-02-28T12:38:10.365452Z",
     "shell.execute_reply": "2025-02-28T12:38:10.364194Z"
    },
    "papermill": {
     "duration": 0.897745,
     "end_time": "2025-02-28T12:38:10.366990",
     "exception": false,
     "start_time": "2025-02-28T12:38:09.469245",
     "status": "completed"
    },
    "tags": []
   },
   "outputs": [],
   "source": [
    "for i in data.select_dtypes(include='number').columns:\n",
    "    sb.boxplot(data, x=i)\n",
    "    plt.show()"
   ]
  },
  {
   "cell_type": "code",
   "execution_count": null,
   "id": "2bf33306",
   "metadata": {
    "execution": {
     "iopub.execute_input": "2025-02-28T12:38:10.380403Z",
     "iopub.status.busy": "2025-02-28T12:38:10.380027Z",
     "iopub.status.idle": "2025-02-28T12:38:10.393269Z",
     "shell.execute_reply": "2025-02-28T12:38:10.392089Z"
    },
    "papermill": {
     "duration": 0.022099,
     "end_time": "2025-02-28T12:38:10.395335",
     "exception": false,
     "start_time": "2025-02-28T12:38:10.373236",
     "status": "completed"
    },
    "tags": []
   },
   "outputs": [],
   "source": [
    "data['population'].value_counts()"
   ]
  },
  {
   "cell_type": "code",
   "execution_count": null,
   "id": "41690bb3",
   "metadata": {
    "execution": {
     "iopub.execute_input": "2025-02-28T12:38:10.409540Z",
     "iopub.status.busy": "2025-02-28T12:38:10.409178Z",
     "iopub.status.idle": "2025-02-28T12:38:12.962424Z",
     "shell.execute_reply": "2025-02-28T12:38:12.961580Z"
    },
    "papermill": {
     "duration": 2.562286,
     "end_time": "2025-02-28T12:38:12.964286",
     "exception": false,
     "start_time": "2025-02-28T12:38:10.402000",
     "status": "completed"
    },
    "tags": []
   },
   "outputs": [],
   "source": [
    "for i in data.select_dtypes(include='number').columns:\n",
    "    sb.histplot(data=data, x=i)\n",
    "    plt.show()"
   ]
  },
  {
   "cell_type": "code",
   "execution_count": null,
   "id": "976f29e3",
   "metadata": {
    "execution": {
     "iopub.execute_input": "2025-02-28T12:38:12.990570Z",
     "iopub.status.busy": "2025-02-28T12:38:12.990187Z",
     "iopub.status.idle": "2025-02-28T12:38:18.407585Z",
     "shell.execute_reply": "2025-02-28T12:38:18.406153Z"
    },
    "papermill": {
     "duration": 5.431344,
     "end_time": "2025-02-28T12:38:18.409114",
     "exception": false,
     "start_time": "2025-02-28T12:38:12.977770",
     "status": "completed"
    },
    "tags": []
   },
   "outputs": [],
   "source": [
    "sb.pairplot(data.head(30), \n",
    "            vars=['total_rooms','total_bedrooms', 'population', 'households', 'median_income'], \n",
    "            hue='ocean_proximity')\n",
    "plt.show()"
   ]
  },
  {
   "cell_type": "code",
   "execution_count": null,
   "id": "41d8d360",
   "metadata": {
    "execution": {
     "iopub.execute_input": "2025-02-28T12:38:18.436518Z",
     "iopub.status.busy": "2025-02-28T12:38:18.436191Z",
     "iopub.status.idle": "2025-02-28T12:38:18.448145Z",
     "shell.execute_reply": "2025-02-28T12:38:18.447341Z"
    },
    "papermill": {
     "duration": 0.027886,
     "end_time": "2025-02-28T12:38:18.449511",
     "exception": false,
     "start_time": "2025-02-28T12:38:18.421625",
     "status": "completed"
    },
    "tags": []
   },
   "outputs": [],
   "source": [
    "data_corr=data[['total_rooms','total_bedrooms', 'population', 'households', 'median_income']].dropna().corr()\n",
    "data_corr"
   ]
  },
  {
   "cell_type": "code",
   "execution_count": null,
   "id": "feaca2cc",
   "metadata": {
    "execution": {
     "iopub.execute_input": "2025-02-28T12:38:18.476503Z",
     "iopub.status.busy": "2025-02-28T12:38:18.476195Z",
     "iopub.status.idle": "2025-02-28T12:38:18.717930Z",
     "shell.execute_reply": "2025-02-28T12:38:18.715981Z"
    },
    "papermill": {
     "duration": 0.25715,
     "end_time": "2025-02-28T12:38:18.720101",
     "exception": false,
     "start_time": "2025-02-28T12:38:18.462951",
     "status": "completed"
    },
    "tags": []
   },
   "outputs": [],
   "source": [
    "sb.heatmap(data_corr, annot=True, cmap=\"coolwarm\")"
   ]
  }
 ],
 "metadata": {
  "kaggle": {
   "accelerator": "none",
   "dataSources": [
    {
     "datasetId": 5227,
     "sourceId": 7876,
     "sourceType": "datasetVersion"
    }
   ],
   "dockerImageVersionId": 30918,
   "isGpuEnabled": false,
   "isInternetEnabled": false,
   "language": "python",
   "sourceType": "notebook"
  },
  "kernelspec": {
   "display_name": ".venv",
   "language": "python",
   "name": "python3"
  },
  "language_info": {
   "codemirror_mode": {
    "name": "ipython",
    "version": 3
   },
   "file_extension": ".py",
   "mimetype": "text/x-python",
   "name": "python",
   "nbconvert_exporter": "python",
   "pygments_lexer": "ipython3",
   "version": "3.11.6"
  },
  "papermill": {
   "default_parameters": {},
   "duration": 16.787858,
   "end_time": "2025-02-28T12:38:19.979863",
   "environment_variables": {},
   "exception": null,
   "input_path": "__notebook__.ipynb",
   "output_path": "__notebook__.ipynb",
   "parameters": {},
   "start_time": "2025-02-28T12:38:03.192005",
   "version": "2.6.0"
  }
 },
 "nbformat": 4,
 "nbformat_minor": 5
}
