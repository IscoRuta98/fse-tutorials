{
 "cells": [
  {
   "cell_type": "markdown",
   "metadata": {},
   "source": [
    "# DataFrames II: Filtering Data"
   ]
  },
  {
   "cell_type": "code",
   "execution_count": 2,
   "metadata": {},
   "outputs": [],
   "source": [
    "import pandas as pd"
   ]
  },
  {
   "cell_type": "code",
   "execution_count": null,
   "metadata": {},
   "outputs": [],
   "source": [
    "employees = pd.read_csv(\"employees.csv\")\n",
    "employees"
   ]
  },
  {
   "cell_type": "code",
   "execution_count": null,
   "metadata": {},
   "outputs": [],
   "source": [
    "employees.info()"
   ]
  },
  {
   "cell_type": "code",
   "execution_count": null,
   "metadata": {},
   "outputs": [],
   "source": [
    "employees.head()"
   ]
  },
  {
   "cell_type": "markdown",
   "metadata": {},
   "source": [
    "## Handling Date-Time values\n",
    "\n",
    "- The `pd.to_datetime` method converts a **Series** to hold datetime values.\n",
    "- The `format` parameter informs pandas of the format that the times are stored in.\n",
    "- We pass symbols designating the segments of the string. For example, %m means \"month\" and %d means day.\n",
    "- The `dt` attribute reveals an object with many datetime-related attributes and methods.\n",
    "- The `dt.time` attribute extracts only the time from each value in a datetime **Series**.\n",
    "- Use the `astype` method to convert the values in a **Series** to another type.\n",
    "- The `parse_dates` parameter of `read_csv` is an alternate way to parse strings as datetimes."
   ]
  },
  {
   "cell_type": "code",
   "execution_count": 6,
   "metadata": {},
   "outputs": [],
   "source": [
    "# Convert the \"Start Date\" column in the employees DataFrame to datetime format\n",
    "# The format specified is \"%m/%d/%Y\" which means the date is in the format of month/day/year\n",
    "employees[\"Start Date\"] = pd.to_datetime(employees[\"Start Date\"], format=\"%m/%d/%Y\")"
   ]
  },
  {
   "cell_type": "code",
   "execution_count": null,
   "metadata": {},
   "outputs": [],
   "source": [
    "employees[\"Start Date\"].head()"
   ]
  },
  {
   "cell_type": "code",
   "execution_count": null,
   "metadata": {},
   "outputs": [],
   "source": [
    "pd.to_datetime(employees[\"Last Login Time\"], format=\"%H:%M %p\")"
   ]
  },
  {
   "cell_type": "code",
   "execution_count": 6,
   "metadata": {},
   "outputs": [],
   "source": [
    "employees[\"Last Login Time\"] = pd.to_datetime(\n",
    "    employees[\"Last Login Time\"], format=\"%H:%M %p\"\n",
    ").dt.time\n",
    "\"\"\"\n",
    "Converts the \"Last Login Time\" column in the employees DataFrame from string format to datetime.time format.\n",
    "\n",
    "The \"Last Login Time\" column is expected to be in the format \"%H:%M %p\" (e.g., \"02:30 PM\").\n",
    "The pd.to_datetime function is used to parse the string into a datetime object.\n",
    "The dt.time accessor is then used to extract only the time component from the datetime object.\n",
    "\"\"\""
   ]
  },
  {
   "cell_type": "markdown",
   "metadata": {},
   "source": [
    "## Memory Optimization"
   ]
  },
  {
   "cell_type": "code",
   "execution_count": 7,
   "metadata": {},
   "outputs": [],
   "source": [
    "employees[\"Senior Management\"] = employees[\"Senior Management\"].astype(bool)\n",
    "# Converts the \"Senior Management\" column in the employees DataFrame to a boolean data type."
   ]
  },
  {
   "cell_type": "code",
   "execution_count": 8,
   "metadata": {},
   "outputs": [],
   "source": [
    "employees[\"Gender\"] = employees[\"Gender\"].astype(\"category\")\n",
    "\"\"\"\n",
    "Converts the 'Gender' column in the employees DataFrame to a categorical data type.\n",
    "\n",
    "This is useful for optimizing memory usage and improving performance when \n",
    "performing operations on the 'Gender' column, as categorical data types are \n",
    "more efficient for columns with a limited number of unique values.\n",
    "\"\"\""
   ]
  },
  {
   "cell_type": "code",
   "execution_count": null,
   "metadata": {},
   "outputs": [],
   "source": [
    "employees.info()"
   ]
  },
  {
   "cell_type": "code",
   "execution_count": null,
   "metadata": {},
   "outputs": [],
   "source": [
    "employees = pd.read_csv(\n",
    "    \"employees.csv\", parse_dates=[\"Start Date\"], date_format=\"%m/%d/%Y\"\n",
    ")\n",
    "employees[\"Last Login Time\"] = pd.to_datetime(\n",
    "    employees[\"Last Login Time\"], format=\"%H:%M %p\"\n",
    ").dt.time\n",
    "employees[\"Senior Management\"] = employees[\"Senior Management\"].astype(bool)\n",
    "employees[\"Gender\"] = employees[\"Gender\"].astype(\"category\")\n",
    "employees.head()"
   ]
  },
  {
   "cell_type": "markdown",
   "metadata": {},
   "source": [
    "## Filter A DataFrame  Based On A Condition\n",
    "- Pandas needs a **Series** of Booleans to perform a filter.\n",
    "- Pass the Boolean Series inside square brackets after the **DataFrame**.\n",
    "- We can generate a Boolean Series using a wide variety of operations (equality, inequality, less than, greater than, inclusion, etc)"
   ]
  },
  {
   "cell_type": "code",
   "execution_count": null,
   "metadata": {},
   "outputs": [],
   "source": [
    "employees = pd.read_csv(\n",
    "    \"employees.csv\", parse_dates=[\"Start Date\"], date_format=\"%m/%d/%Y\"\n",
    ")\n",
    "employees[\"Last Login Time\"] = pd.to_datetime(\n",
    "    employees[\"Last Login Time\"], format=\"%H:%M %p\"\n",
    ").dt.time\n",
    "employees[\"Senior Management\"] = employees[\"Senior Management\"].astype(bool)\n",
    "employees[\"Gender\"] = employees[\"Gender\"].astype(\"category\")\n",
    "employees.head()"
   ]
  },
  {
   "cell_type": "code",
   "execution_count": 8,
   "metadata": {},
   "outputs": [],
   "source": [
    "import datetime as dt"
   ]
  },
  {
   "cell_type": "code",
   "execution_count": null,
   "metadata": {},
   "outputs": [],
   "source": [
    "employees[employees[\"Gender\"] == \"Male\"]"
   ]
  },
  {
   "cell_type": "code",
   "execution_count": null,
   "metadata": {},
   "outputs": [],
   "source": [
    "employees[employees[\"Gender\"] == \"Male\"]  # Returns all rows where Gender is Male\n",
    "\n",
    "employees[employees[\"Team\"] == \"Finance\"]  # Returns all rows where Team is Finance\n",
    "\n",
    "on_finance_team = (\n",
    "    employees[\"Team\"] == \"Finance\"\n",
    ")  # Creates a boolean Series where Team is Finance\n",
    "employees[on_finance_team]  # Returns all rows where Team is Finance\n",
    "\n",
    "employees[employees[\"Senior Management\"]].head()\n",
    "\n",
    "employees[\n",
    "    employees[\"Salary\"] > 110000\n",
    "]  # Returns all rows where Salary is greater than 110000\n",
    "\n",
    "employees[employees[\"Bonus %\"] < 1.5]  # Returns all rows where Bonus % is less than 1.5\n",
    "\n",
    "employees[\n",
    "    employees[\"Start Date\"] < \"1985-01-01\"\n",
    "]  # Returns all rows where Start Date is before 1985-01-01\n",
    "\n",
    "employees[\n",
    "    employees[\"Last Login Time\"] < dt.time(12, 0, 0)\n",
    "]  # Returns all rows where Last Login Time is before 12:00:00"
   ]
  },
  {
   "cell_type": "markdown",
   "metadata": {},
   "source": [
    "## Filter with More than One Condition (AND)\n",
    "- Add the `&` operator in between two Boolean **Series** to filter by multiple conditions.\n",
    "- We can assign the **Series** to variables to make the syntax more readable."
   ]
  },
  {
   "cell_type": "code",
   "execution_count": null,
   "metadata": {},
   "outputs": [],
   "source": [
    "employees = pd.read_csv(\n",
    "    \"employees.csv\", parse_dates=[\"Start Date\"], date_format=\"%m/%d/%Y\"\n",
    ")\n",
    "employees[\"Last Login Time\"] = pd.to_datetime(\n",
    "    employees[\"Last Login Time\"], format=\"%H:%M %p\"\n",
    ").dt.time\n",
    "employees[\"Senior Management\"] = employees[\"Senior Management\"].astype(bool)\n",
    "employees[\"Gender\"] = employees[\"Gender\"].astype(\"category\")\n",
    "employees.head()"
   ]
  },
  {
   "cell_type": "code",
   "execution_count": 11,
   "metadata": {},
   "outputs": [],
   "source": [
    "# female employees who work in Marketing who earn over $100k a year\n",
    "\n",
    "is_female = employees[\"Gender\"] == \"Female\"\n",
    "is_in_marketing = employees[\"Team\"] == \"Marketing\"\n",
    "salary_over_100k = employees[\"Salary\"] > 100000"
   ]
  },
  {
   "cell_type": "code",
   "execution_count": null,
   "metadata": {},
   "outputs": [],
   "source": [
    "is_female & is_in_marketing & salary_over_100k\n",
    "\n",
    "# True, True -> True\n",
    "# True, False -> False\n",
    "# False, True -> False\n",
    "# False, False -> False"
   ]
  },
  {
   "cell_type": "code",
   "execution_count": null,
   "metadata": {},
   "outputs": [],
   "source": [
    "employees[is_female & is_in_marketing & salary_over_100k]"
   ]
  },
  {
   "cell_type": "markdown",
   "metadata": {},
   "source": [
    "## Filter with More than One Condition (OR)\n",
    "- Use the `|` operator in between two Boolean **Series** to filter by *either* condition."
   ]
  },
  {
   "cell_type": "code",
   "execution_count": null,
   "metadata": {},
   "outputs": [],
   "source": [
    "employees = pd.read_csv(\n",
    "    \"employees.csv\", parse_dates=[\"Start Date\"], date_format=\"%m/%d/%Y\"\n",
    ")\n",
    "employees[\"Last Login Time\"] = pd.to_datetime(\n",
    "    employees[\"Last Login Time\"], format=\"%H:%M %p\"\n",
    ").dt.time\n",
    "employees[\"Senior Management\"] = employees[\"Senior Management\"].astype(bool)\n",
    "employees[\"Gender\"] = employees[\"Gender\"].astype(\"category\")\n",
    "employees.head()"
   ]
  },
  {
   "cell_type": "code",
   "execution_count": null,
   "metadata": {},
   "outputs": [],
   "source": [
    "# AND vs OR (OR logic below)\n",
    "#\n",
    "# True, True -> True\n",
    "# True, False -> True\n",
    "# False, True -> True\n",
    "# False, False -> False\n",
    "\n",
    "# Employees who are either senior management OR started before January 1st, 1990\n",
    "\n",
    "is_senior_management = employees[\"Senior Management\"]\n",
    "started_in_80s = employees[\"Start Date\"] < \"1990-01-01\"\n",
    "\n",
    "employees[is_senior_management | started_in_80s]"
   ]
  },
  {
   "cell_type": "code",
   "execution_count": 20,
   "metadata": {},
   "outputs": [],
   "source": [
    "# First Name is Robert who work in Client Services OR Start Date after 2016-06-01"
   ]
  },
  {
   "cell_type": "code",
   "execution_count": 21,
   "metadata": {},
   "outputs": [],
   "source": [
    "is_robert = employees[\"First Name\"] == \"Robert\"\n",
    "is_in_client_services = employees[\"Team\"] == \"Client Services\"\n",
    "start_date_after_june_2016 = employees[\"Start Date\"] > \"2016-06-01\""
   ]
  },
  {
   "cell_type": "code",
   "execution_count": null,
   "metadata": {},
   "outputs": [],
   "source": [
    "employees[(is_robert & is_in_client_services) | start_date_after_june_2016]"
   ]
  },
  {
   "cell_type": "markdown",
   "metadata": {},
   "source": [
    "## The isin Method\n",
    "- The `isin` **Series** method accepts a collection object like a list, tuple, or **Series**.\n",
    "- The method returns True for a row if its value is found in the collection."
   ]
  },
  {
   "cell_type": "code",
   "execution_count": null,
   "metadata": {},
   "outputs": [],
   "source": [
    "employees = pd.read_csv(\n",
    "    \"employees.csv\", parse_dates=[\"Start Date\"], date_format=\"%m/%d/%Y\"\n",
    ")\n",
    "employees[\"Last Login Time\"] = pd.to_datetime(\n",
    "    employees[\"Last Login Time\"], format=\"%H:%M %p\"\n",
    ").dt.time\n",
    "employees[\"Senior Management\"] = employees[\"Senior Management\"].astype(bool)\n",
    "employees[\"Gender\"] = employees[\"Gender\"].astype(\"category\")\n",
    "employees.head()"
   ]
  },
  {
   "cell_type": "code",
   "execution_count": null,
   "metadata": {},
   "outputs": [],
   "source": [
    "# Legal Team or Sales Team or Product Team\n",
    "\n",
    "legal_team = employees[\"Team\"] == \"Legal\"\n",
    "sales_team = employees[\"Team\"] == \"Sales\"\n",
    "product_team = employees[\"Team\"] == \"Product\"\n",
    "\n",
    "employees[legal_team | sales_team | product_team]"
   ]
  },
  {
   "cell_type": "code",
   "execution_count": null,
   "metadata": {},
   "outputs": [],
   "source": [
    "target_teams = employees[\"Team\"].isin([\"Legal\", \"Sales\", \"Product\"])\n",
    "employees[target_teams]"
   ]
  },
  {
   "cell_type": "markdown",
   "metadata": {},
   "source": [
    "## The isnull and notnull Methods\n",
    "- The `isnull` method returns True for `NaN` values in a **Series**.\n",
    "- The `notnull` method returns True for present values in a **Series**."
   ]
  },
  {
   "cell_type": "code",
   "execution_count": null,
   "metadata": {},
   "outputs": [],
   "source": [
    "employees = pd.read_csv(\n",
    "    \"employees.csv\", parse_dates=[\"Start Date\"], date_format=\"%m/%d/%Y\"\n",
    ")\n",
    "employees[\"Last Login Time\"] = pd.to_datetime(\n",
    "    employees[\"Last Login Time\"], format=\"%H:%M %p\"\n",
    ").dt.time\n",
    "employees[\"Senior Management\"] = employees[\"Senior Management\"].astype(bool)\n",
    "employees[\"Gender\"] = employees[\"Gender\"].astype(\"category\")\n",
    "employees.head()"
   ]
  },
  {
   "cell_type": "code",
   "execution_count": null,
   "metadata": {},
   "outputs": [],
   "source": [
    "employees[employees[\"Team\"].isnull()]  # Returns all rows where Team is null\n",
    "\n",
    "employees[employees[\"Team\"].notnull()]  # Returns all rows where Team is not null\n",
    "\n",
    "employees[\n",
    "    employees[\"First Name\"].isnull() & employees[\"Team\"].notnull()\n",
    "]  # Returns all rows where First Name is null and Team is not null"
   ]
  },
  {
   "cell_type": "markdown",
   "metadata": {},
   "source": [
    "## The between Method\n",
    "- The `between` method returns True if a **Series** value is found within its range."
   ]
  },
  {
   "cell_type": "code",
   "execution_count": null,
   "metadata": {},
   "outputs": [],
   "source": [
    "employees = pd.read_csv(\n",
    "    \"employees.csv\", parse_dates=[\"Start Date\"], date_format=\"%m/%d/%Y\"\n",
    ")\n",
    "employees[\"Last Login Time\"] = pd.to_datetime(\n",
    "    employees[\"Last Login Time\"], format=\"%H:%M %p\"\n",
    ").dt.time\n",
    "employees[\"Senior Management\"] = employees[\"Senior Management\"].astype(bool)\n",
    "employees[\"Gender\"] = employees[\"Gender\"].astype(\"category\")\n",
    "employees.head()"
   ]
  },
  {
   "cell_type": "code",
   "execution_count": 20,
   "metadata": {},
   "outputs": [],
   "source": [
    "import datetime as dt"
   ]
  },
  {
   "cell_type": "code",
   "execution_count": null,
   "metadata": {},
   "outputs": [],
   "source": [
    "employees[employees[\"Salary\"].between(60000, 70000)]\n",
    "\n",
    "employees[employees[\"Bonus %\"].between(2.0, 5.0)]\n",
    "\n",
    "employees[employees[\"Start Date\"].between(\"1991-01-01\", \"1992-01-01\")]\n",
    "\n",
    "employees[employees[\"Last Login Time\"].between(dt.time(8, 30), dt.time(12, 0))]"
   ]
  },
  {
   "cell_type": "markdown",
   "metadata": {},
   "source": [
    "## The duplicated Method\n",
    "- The `duplicated` method returns True if a **Series** value is a duplicate.\n",
    "- Pandas will mark one occurrence of a repeated value as a non-duplicate.\n",
    "- Use the `keep` parameter to designate whether the first or last occurrence of a repeated value should be considered the \"non-duplicate\".\n",
    "- Pass False to the `keep` parameter to mark all occurrences of repeated values as duplicates.\n",
    "- Use the tilde symbol (`~`) to invert a **Series's** values. Trues will become Falses, and Falses will become trues."
   ]
  },
  {
   "cell_type": "code",
   "execution_count": null,
   "metadata": {},
   "outputs": [],
   "source": [
    "employees = pd.read_csv(\n",
    "    \"employees.csv\", parse_dates=[\"Start Date\"], date_format=\"%m/%d/%Y\"\n",
    ")\n",
    "employees[\"Last Login Time\"] = pd.to_datetime(\n",
    "    employees[\"Last Login Time\"], format=\"%H:%M %p\"\n",
    ").dt.time\n",
    "employees[\"Senior Management\"] = employees[\"Senior Management\"].astype(bool)\n",
    "employees[\"Gender\"] = employees[\"Gender\"].astype(\"category\")\n",
    "employees.head()"
   ]
  },
  {
   "cell_type": "code",
   "execution_count": null,
   "metadata": {},
   "outputs": [],
   "source": [
    "employees[employees[\"First Name\"].duplicated()]"
   ]
  },
  {
   "cell_type": "code",
   "execution_count": null,
   "metadata": {},
   "outputs": [],
   "source": [
    "employees[\n",
    "    employees[\"First Name\"].duplicated()\n",
    "]  # Returns all rows where First Name is duplicated\n",
    "employees[\n",
    "    employees[\"First Name\"].duplicated(keep=\"first\")\n",
    "]  # Returns all rows where First Name is duplicated, keeping the first occurrence\n",
    "\n",
    "employees[\n",
    "    employees[\"First Name\"].duplicated(keep=\"last\")\n",
    "]  # Returns all rows where First Name is duplicated, keeping the last occurrence\n",
    "\n",
    "employees[\n",
    "    employees[\"First Name\"].duplicated(keep=False)\n",
    "]  # Returns all rows where First Name is duplicated\n",
    "\n",
    "employees[\n",
    "    ~employees[\"First Name\"].duplicated(keep=False)\n",
    "]  # Returns all rows where First Name is not duplicated"
   ]
  },
  {
   "cell_type": "markdown",
   "metadata": {},
   "source": [
    "## The drop_duplicates Method\n",
    "- The `drop_duplicates` method deletes rows with duplicate values.\n",
    "- By default, it will remove a row if *all* of its values are shared with another row.\n",
    "- The `subset` parameter configures the columns to look for duplicate values within.\n",
    "- Pass a list to `subset` parameter to look for duplicates across multiple columns."
   ]
  },
  {
   "cell_type": "code",
   "execution_count": null,
   "metadata": {},
   "outputs": [],
   "source": [
    "employees = pd.read_csv(\n",
    "    \"employees.csv\", parse_dates=[\"Start Date\"], date_format=\"%m/%d/%Y\"\n",
    ")\n",
    "employees[\"Last Login Time\"] = pd.to_datetime(\n",
    "    employees[\"Last Login Time\"], format=\"%H:%M %p\"\n",
    ").dt.time\n",
    "employees[\"Senior Management\"] = employees[\"Senior Management\"].astype(bool)\n",
    "employees[\"Gender\"] = employees[\"Gender\"].astype(\"category\")\n",
    "employees.head()"
   ]
  },
  {
   "cell_type": "code",
   "execution_count": null,
   "metadata": {},
   "outputs": [],
   "source": [
    "employees.drop_duplicates()\n",
    "\n",
    "employees.drop_duplicates(\"Team\")\n",
    "employees.drop_duplicates(\"Team\", keep=\"first\")\n",
    "employees.drop_duplicates(\"Team\", keep=\"last\")\n",
    "employees.drop_duplicates(\"Team\", keep=False)\n",
    "\n",
    "employees.drop_duplicates(\"First Name\", keep=False)\n",
    "\n",
    "employees.drop_duplicates([\"Senior Management\", \"Team\"]).sort_values(\"Team\")\n",
    "\n",
    "employees.drop_duplicates([\"Senior Management\", \"Team\"], keep=\"last\").sort_values(\n",
    "    \"Team\"\n",
    ")"
   ]
  },
  {
   "cell_type": "markdown",
   "metadata": {},
   "source": [
    "## The unique and nunique Methods\n",
    "- The `unique` method on a **Series** returns a collection of its unique values. The method does not exist on a **DataFrame**.\n",
    "- The `nunique` method returns a *count* of the number of unique values in the **Series**/**DataFrame**.\n",
    "- The `dropna` parameter configures whether to include or exclude missing (`NaN`) values."
   ]
  },
  {
   "cell_type": "code",
   "execution_count": null,
   "metadata": {},
   "outputs": [],
   "source": [
    "employees = pd.read_csv(\n",
    "    \"employees.csv\", parse_dates=[\"Start Date\"], date_format=\"%m/%d/%Y\"\n",
    ")\n",
    "employees[\"Last Login Time\"] = pd.to_datetime(\n",
    "    employees[\"Last Login Time\"], format=\"%H:%M %p\"\n",
    ").dt.time\n",
    "employees[\"Senior Management\"] = employees[\"Senior Management\"].astype(bool)\n",
    "employees[\"Gender\"] = employees[\"Gender\"].astype(\"category\")\n",
    "employees.head()"
   ]
  },
  {
   "cell_type": "code",
   "execution_count": null,
   "metadata": {},
   "outputs": [],
   "source": [
    "employees[\"Gender\"].unique()  # Returns all unique values in the Gender column\n",
    "type(\n",
    "    employees[\"Gender\"].unique()\n",
    ")  # Returns the data type of the unique values in the G\n",
    "\n",
    "employees[\"Team\"].unique()  # Returns all unique values in the Team column\n",
    "type(employees[\"Team\"].unique())\n",
    "\n",
    "employees[\"Team\"].nunique()  # Returns the number of unique values in the Team column\n",
    "employees[\"Team\"].nunique(\n",
    "    dropna=True\n",
    ")  # Returns the number of unique values in the Team column, excluding NA values\n",
    "employees[\"Team\"].nunique(\n",
    "    dropna=False\n",
    ")  # Returns the number of unique values in the Team column, including NA values"
   ]
  },
  {
   "cell_type": "code",
   "execution_count": null,
   "metadata": {},
   "outputs": [],
   "source": [
    "employees.nunique()"
   ]
  },
  {
   "cell_type": "code",
   "execution_count": null,
   "metadata": {},
   "outputs": [],
   "source": []
  },
  {
   "cell_type": "code",
   "execution_count": null,
   "metadata": {},
   "outputs": [],
   "source": []
  },
  {
   "cell_type": "code",
   "execution_count": null,
   "metadata": {},
   "outputs": [],
   "source": []
  }
 ],
 "metadata": {
  "anaconda-cloud": {},
  "kernelspec": {
   "display_name": ".venv",
   "language": "python",
   "name": "python3"
  },
  "language_info": {
   "codemirror_mode": {
    "name": "ipython",
    "version": 3
   },
   "file_extension": ".py",
   "mimetype": "text/x-python",
   "name": "python",
   "nbconvert_exporter": "python",
   "pygments_lexer": "ipython3",
   "version": "3.11.6"
  }
 },
 "nbformat": 4,
 "nbformat_minor": 4
}
